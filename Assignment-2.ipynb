{
 "cells": [
  {
   "cell_type": "code",
   "execution_count": 2,
   "id": "c786e46b",
   "metadata": {
    "scrolled": false
   },
   "outputs": [],
   "source": [
    "# Importing Libraries\n",
    "import requests\n",
    "from bs4 import BeautifulSoup\n",
    "import pandas as pd\n",
    "\n",
    "#Create Data frame\n",
    "data = []\n",
    "\n",
    "#Total pages in url is 10\n",
    "for i in range(1, 11):\n",
    "    url = f\"http://quotes.toscrape.com/page/{i}/\"\n",
    "    response = requests.get(url)\n",
    "    response = response.content\n",
    "    soup = BeautifulSoup(response, 'html.parser')\n",
    "    quotes = soup.find_all('div', class_='quote')\n",
    "    for quote in quotes:\n",
    "        quote1 = quote.find('span', class_='text').text\n",
    "        quote2 = quote1.replace('“', '').replace('”', '') #remove the double quote mark fromt text\n",
    "        author = quote.find('small', class_='author').text\n",
    "        quote_tag = quote.find_all('a', class_='tag')\n",
    "        tags = [tag.text for tag in quote_tag]\n",
    "        tags_string = ', '.join(tags) #Join all the tags in one string\n",
    "        data.append([quote2,author,tags_string])\n",
    "\n",
    "df = pd.DataFrame(data, columns = ['Quotes','Author_Name','Tags'])\n",
    "df.to_csv('data.csv')"
   ]
  }
 ],
 "metadata": {
  "kernelspec": {
   "display_name": "Python 3 (ipykernel)",
   "language": "python",
   "name": "python3"
  },
  "language_info": {
   "codemirror_mode": {
    "name": "ipython",
    "version": 3
   },
   "file_extension": ".py",
   "mimetype": "text/x-python",
   "name": "python",
   "nbconvert_exporter": "python",
   "pygments_lexer": "ipython3",
   "version": "3.9.13"
  }
 },
 "nbformat": 4,
 "nbformat_minor": 5
}
